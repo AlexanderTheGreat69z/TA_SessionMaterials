{
 "cells": [
  {
   "cell_type": "markdown",
   "metadata": {},
   "source": [
    "<h3><b>SESSION 3 - Lists, Tuples, and Dictionaries</b></h3>\n",
    "Made by Alexander L. Myfia</b></h3>"
   ]
  },
  {
   "cell_type": "markdown",
   "metadata": {},
   "source": [
    "<b><u>Lists</u></b>\n",
    "<br>\n",
    "A list is an array of unsorted elements.\n",
    "In Python, elements n a list do not need to be the same and can be various.\n",
    "Elements in a list can be accessed using indexes (starts from 0)\n"
   ]
  },
  {
   "cell_type": "code",
   "execution_count": 5,
   "metadata": {},
   "outputs": [
    {
     "name": "stdout",
     "output_type": "stream",
     "text": [
      "[69, 3.14, 'food', False]\n",
      "69\n",
      "[69, 3.14, 'food', False, 'cookie']\n",
      "[69, 3.14, 'food', False]\n",
      "[69, 3.14, True, 'food', False]\n",
      "[69, 3.14, True, 'food']\n",
      "[69, 3.14, True]\n"
     ]
    }
   ],
   "source": [
    "# Create a list - <list_name> = [<data>, <data>, <data>, ...]\n",
    "myList = [69, 3.14, 'food', False]\n",
    "print(myList)\n",
    "\n",
    "# Get list size\n",
    "n = len(myList)\n",
    "print(n)\n",
    "\n",
    "# Print a list element - <list_name>[<index>]\n",
    "print(myList[0])\n",
    "\n",
    "# Manipulate element\n",
    "myList[0] = 420\n",
    "print(myList)\n",
    "\n",
    "# Add element to the end of list\n",
    "myList.append('cookie')\n",
    "print(myList)\n",
    "\n",
    "# Remove element from the end of the list\n",
    "myList.pop()\n",
    "print(myList)\n",
    "\n",
    "# Add element to a specific position in the list\n",
    "myList.insert(2, True)\n",
    "print(myList)\n",
    "\n",
    "# Remove element at a specific position\n",
    "myList.pop(-1) # using negative numbers will access list from the end\n",
    "print(myList)\n",
    "\n",
    "# Remove specific element\n",
    "myList.remove('food')\n",
    "print(myList)"
   ]
  },
  {
   "cell_type": "markdown",
   "metadata": {},
   "source": [
    "<b><u>Tuples</u></b>\n",
    "<br>\n",
    "A tuple is an array of sorted elements.\n",
    "Similar to lists, it may contain various data types and elements can be accessed through indexes.\n",
    "However, elements cannot be added, removed, or manipulated.\n"
   ]
  },
  {
   "cell_type": "code",
   "execution_count": 10,
   "metadata": {},
   "outputs": [
    {
     "name": "stdout",
     "output_type": "stream",
     "text": [
      "(69, 3.14, 'food', False)\n",
      "4\n",
      "69\n",
      "False\n"
     ]
    }
   ],
   "source": [
    "# Create a tuple - <tuple_name> = (<data>, <data>, <data>, ...)\n",
    "myTuple = (69, 3.14, 'food', False)\n",
    "print(myTuple)\n",
    "\n",
    "# Get tuple size\n",
    "n = len(myTuple)\n",
    "print(n)\n",
    "\n",
    "# Print a tuple element - <tuple_name>[<index>]\n",
    "print(myTuple[0])\n",
    "print(myTuple[-1])"
   ]
  },
  {
   "cell_type": "code",
   "execution_count": 7,
   "metadata": {},
   "outputs": [
    {
     "ename": "TypeError",
     "evalue": "'tuple' object does not support item assignment",
     "output_type": "error",
     "traceback": [
      "\u001b[1;31m---------------------------------------------------------------------------\u001b[0m",
      "\u001b[1;31mTypeError\u001b[0m                                 Traceback (most recent call last)",
      "Cell \u001b[1;32mIn[7], line 2\u001b[0m\n\u001b[0;32m      1\u001b[0m \u001b[38;5;66;03m# Trying to manipulate the tuple will result in an error\u001b[39;00m\n\u001b[1;32m----> 2\u001b[0m \u001b[43mmyTuple\u001b[49m\u001b[43m[\u001b[49m\u001b[38;5;241;43m0\u001b[39;49m\u001b[43m]\u001b[49m \u001b[38;5;241m=\u001b[39m \u001b[38;5;124m'\u001b[39m\u001b[38;5;124mlol\u001b[39m\u001b[38;5;124m'\u001b[39m\n\u001b[0;32m      3\u001b[0m \u001b[38;5;28mprint\u001b[39m(myTuple)\n",
      "\u001b[1;31mTypeError\u001b[0m: 'tuple' object does not support item assignment"
     ]
    }
   ],
   "source": [
    "# Trying to manipulate the tuple will result in an error\n",
    "myTuple[0] = 'lol'\n",
    "print(myTuple)"
   ]
  },
  {
   "cell_type": "markdown",
   "metadata": {},
   "source": [
    "<b><u>Dictionaries</u></b>\n",
    "<br>\n",
    "A dictionary is basically a list but with other values as indexes which we call <b>keys</b>. The element that is accessed by giving that key is called a <b>value</b>.\n",
    "Similar to that of an actual dictionary. It has a word and its definition. In this case, the keys act as the word in a dictionary and the values act as the definition to its respective word/key"
   ]
  },
  {
   "cell_type": "code",
   "execution_count": 9,
   "metadata": {},
   "outputs": [
    {
     "name": "stdout",
     "output_type": "stream",
     "text": [
      "{'name': 'AlexanderLM', 'age': 19, 'isChad': True, 'games': ['Overwatch2', 'Valorant', 'CS2']}\n",
      "4\n",
      "AlexanderLM\n",
      "AlexanderLM\n",
      "dict_keys(['name', 'age', 'isChad', 'games'])\n",
      "dict_values(['AlexanderLM', 19, True, ['Overwatch2', 'Valorant', 'CS2']])\n",
      "{'name': 'AlexanderLM', 'age': 20, 'isChad': True, 'games': ['Overwatch2', 'Valorant', 'CS2']}\n",
      "{'name': 'AlexanderLM', 'age': 20, 'isChad': True, 'games': ['Overwatch2', 'Valorant', 'CS2'], 'food': ['burger', 'burrito', 'noods']}\n",
      "{'name': 'AlexanderLM', 'age': 20, 'isChad': True, 'games': ['Overwatch2', 'Valorant', 'CS2']}\n"
     ]
    }
   ],
   "source": [
    "# Create a dict - <dict_name> = {<key> : <value> , <key> : <value>, ...}\n",
    "myDict = {\n",
    "    'name' : 'AlexanderLM',\n",
    "    'age' : 19,\n",
    "    'isChad' : True,\n",
    "    'games' : ['Overwatch2', 'Valorant', 'CS2']\n",
    "}\n",
    "print(myDict)\n",
    "\n",
    "# Get dict size\n",
    "n = len(myDict)\n",
    "print(n)\n",
    "\n",
    "# Get value of a key element - <dict_name>[<key>]\n",
    "print(myDict['name'])\n",
    "print(myDict.get('name'))\n",
    "\n",
    "# Get list of keys and/or values\n",
    "print(myDict.keys())\n",
    "print(myDict.values())\n",
    "\n",
    "# Manipulate dict value\n",
    "myDict['age'] = 20\n",
    "print(myDict)\n",
    "\n",
    "# Add a new key-val pair (Similar to manipulating, but with a key that hasn't existed in the dict yet)\n",
    "myDict['food'] = ['burger', 'burrito', 'noods']\n",
    "print(myDict)\n",
    "\n",
    "# Remove specific key-val pair\n",
    "myDict.pop('food')\n",
    "print(myDict)"
   ]
  }
 ],
 "metadata": {
  "kernelspec": {
   "display_name": "Python 3",
   "language": "python",
   "name": "python3"
  },
  "language_info": {
   "codemirror_mode": {
    "name": "ipython",
    "version": 3
   },
   "file_extension": ".py",
   "mimetype": "text/x-python",
   "name": "python",
   "nbconvert_exporter": "python",
   "pygments_lexer": "ipython3",
   "version": "3.12.6"
  }
 },
 "nbformat": 4,
 "nbformat_minor": 2
}
