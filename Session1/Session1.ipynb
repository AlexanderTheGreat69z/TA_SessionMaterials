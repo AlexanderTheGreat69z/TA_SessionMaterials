{
 "cells": [
  {
   "cell_type": "markdown",
   "metadata": {},
   "source": [
    "<h3><b>SESSION 1 - Introduction to A&P, Variables, and Operations</b></h3>\n",
    "Made by Alexander L. Myfia"
   ]
  },
  {
   "cell_type": "markdown",
   "metadata": {},
   "source": [
    "<b><u>Algorithm and Programming</u></b>\n",
    "<br>\n",
    "An <b>algorithm</b> is a set of instructions typically created to solve a specific problem\n",
    "<br>\n",
    "While <b>programming</b> is the process of translating or building the algorithm into digital code"
   ]
  },
  {
   "cell_type": "markdown",
   "metadata": {},
   "source": [
    "<b><u>Variables and Data Types</u></b>\n",
    "<br>\n",
    "Variables have an identifier (name) and data (value)\n",
    "A variable can only store one data of a data type\n",
    "\n",
    "Data types consist of:\n",
    "<li>Numeric - byte, short, int, long, float, double</li>\n",
    "<li>Character - char, str</li>\n",
    "<li>Boolean - bool</li>"
   ]
  },
  {
   "cell_type": "code",
   "execution_count": 1,
   "metadata": {},
   "outputs": [
    {
     "name": "stdout",
     "output_type": "stream",
     "text": [
      "----------------------------------------------------------------\n",
      "\n",
      "Hello! my name is Alexander Legolas Myfia and I am 19 years old.\n",
      "I have a GPA of 3.97\n",
      "It is True , I have a GF\n",
      "\n",
      "----------------------------------------------------------------\n"
     ]
    }
   ],
   "source": [
    "# Syntax -> <var_name> = <data>\n",
    "name = \"Alexander Legolas Myfia\"\n",
    "age = 19\n",
    "GPA = 3.97\n",
    "hasGirlfriend = True\n",
    "\n",
    "print(\"----------------------------------------------------------------\")\n",
    "print(f\"\\nHello! my name is {name} and I am {age} years old.\")\n",
    "print(\"I have a GPA of \" + str(GPA))\n",
    "print(\"It is\", hasGirlfriend, \", I have a GF\\n\")\n",
    "print(\"----------------------------------------------------------------\")"
   ]
  },
  {
   "cell_type": "markdown",
   "metadata": {},
   "source": [
    "<b><u>Operators</u></b>\n",
    "<br>\n",
    "There are a a couple types of operators:\n",
    "<li>Arithmetic - Mathematical operators like add or subtract</li>\n",
    "<li>Assignment - Operators which update or manipulate predefined variables</li>\n",
    "<li>Logical - Operators which work on logic... as in True and False</li>\n",
    "<li>Bitwise - Operators which work on bits... as in zeros and ones</li>\n",
    "\n",
    "For now we will not be touching bitwise operators :D"
   ]
  },
  {
   "cell_type": "markdown",
   "metadata": {},
   "source": [
    "<h4><u>Arithmetic Operators</u></h4>"
   ]
  },
  {
   "cell_type": "code",
   "execution_count": 3,
   "metadata": {},
   "outputs": [
    {
     "name": "stdout",
     "output_type": "stream",
     "text": [
      "Addition\t= 4\n",
      "Subtract\t= 2\n"
     ]
    }
   ],
   "source": [
    "add = 2 + 2\n",
    "print(\"Addition\\t=\", add)\n",
    "\n",
    "sub = 4 - 2\n",
    "print(\"Subtract\\t=\", sub)\n",
    "\n",
    "mul = 3 * 2\n",
    "print(\"Multiply\\t=\", mul)\n",
    "\n",
    "div = 4 / 2\n",
    "print(\"Divide\\t\\t=\", div)\n",
    "\n",
    "div = 4 // 2\n",
    "print(\"Divide\\t\\t=\", div)\n",
    "\n",
    "exp = 2 ** 3\n",
    "print(\"Exponent\\t=\", exp)\n",
    "\n",
    "mod = 10 % 7\n",
    "print(\"Modulus\\t\\t=\", mod)\n",
    "\n",
    "maths = add + sub - mul * div / exp ** mod\n",
    "print(\"Math operation\\t=\", maths)"
   ]
  },
  {
   "cell_type": "markdown",
   "metadata": {},
   "source": [
    "<h4><u>Assignment Operators</u></h4>"
   ]
  },
  {
   "cell_type": "code",
   "execution_count": null,
   "metadata": {},
   "outputs": [],
   "source": [
    "add += 2\n",
    "print(\"New Addition\\t=\", add)\n",
    "\n",
    "sub -= 1\n",
    "print(\"New Subtract\\t=\", sub)\n",
    "\n",
    "mul *= 2\n",
    "print(\"New Multiply\\t=\", mul)\n",
    "\n",
    "div /= 2\n",
    "print(\"New Divide\\t=\", div)\n",
    "\n",
    "exp **= 2\n",
    "print(\"New Exponent\\t=\", exp)\n",
    "\n",
    "mod %= 2\n",
    "print(\"New Modulus\\t=\", mod)"
   ]
  },
  {
   "cell_type": "markdown",
   "metadata": {},
   "source": [
    "<h4><u>Logical Operators</u></h4>"
   ]
  },
  {
   "cell_type": "code",
   "execution_count": null,
   "metadata": {},
   "outputs": [],
   "source": [
    "more = mul > div\n",
    "print(\"Is mul more than div?\", more)\n",
    "\n",
    "less = add < sub\n",
    "print(\"Is add less than sub?\", less)\n",
    "\n",
    "equal = sub == div\n",
    "print(\"Is sub equal to div?\", equal)\n",
    "\n",
    "and_test = less and equal\n",
    "print(and_test)\n",
    "\n",
    "or_test = more or less\n",
    "print(or_test)\n",
    "\n",
    "same = isinstance(age, int)\n",
    "print(\"Is age an integer?\", same)"
   ]
  }
 ],
 "metadata": {
  "kernelspec": {
   "display_name": "Python 3",
   "language": "python",
   "name": "python3"
  },
  "language_info": {
   "codemirror_mode": {
    "name": "ipython",
    "version": 3
   },
   "file_extension": ".py",
   "mimetype": "text/x-python",
   "name": "python",
   "nbconvert_exporter": "python",
   "pygments_lexer": "ipython3",
   "version": "3.12.6"
  }
 },
 "nbformat": 4,
 "nbformat_minor": 2
}
