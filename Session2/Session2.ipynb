{
 "cells": [
  {
   "cell_type": "markdown",
   "metadata": {},
   "source": [
    "<h3><b>SESSION 2 - User Input, Conditionals, and Loops</b></h3>\n",
    "Made by Alexander L. Myfia"
   ]
  },
  {
   "cell_type": "markdown",
   "metadata": {},
   "source": [
    "<b><u>User Input</u></b>\n",
    "<br>\n",
    "You can make user input in the terminal using <b>input()</b> followed by a prompt string"
   ]
  },
  {
   "cell_type": "code",
   "execution_count": null,
   "metadata": {},
   "outputs": [],
   "source": [
    "name = input(\"Enter your name: \") \n",
    "age = eval(input(\"Enter your age: \"))\n",
    "print(f\"Hello, {name}! You are {age} years old\")"
   ]
  },
  {
   "cell_type": "markdown",
   "metadata": {},
   "source": [
    "<b><u>Conditionals</u></b>\n",
    "<br>\n",
    "Using <b>if, elif, else </b>, you can make a set of conditional rules\n",
    "<br>\n",
    "<i>NOTE: using another <b>if</b> instead of another <b>elif</b> may result in making two different set of conditional rules"
   ]
  },
  {
   "cell_type": "code",
   "execution_count": null,
   "metadata": {},
   "outputs": [],
   "source": [
    "print(\"SMASH or PASS?\")\n",
    "if age >= 40: print(\"u old bruv, pass\")\n",
    "elif age >= 18: print(\"aight u good, smash\")\n",
    "else: print(\"FBI, OPEN UP!\")"
   ]
  },
  {
   "cell_type": "markdown",
   "metadata": {},
   "source": [
    "<b><u>Loops</u></b>\n",
    "<br>\n",
    "There are two kinds of loops:\n",
    "<li>'for' loop - A loop that iterates over a specific iterator</li>\n",
    "<li>'while' loop - A loop that iterates continuously as long as a certain condition is true</li>"
   ]
  },
  {
   "cell_type": "code",
   "execution_count": null,
   "metadata": {},
   "outputs": [],
   "source": [
    "for n in range(1, 10):\n",
    "    print(f\"The square of {n} is {n**2}\")\n",
    "    \n",
    "print()\n",
    "print(\"----------------------------------------------------------------\")\n",
    "print()\n",
    "\n",
    "arr = [\"Alpha\", \"Bravo\", \"Gamma\", \"Zeta\"]\n",
    "for stuff in arr:\n",
    "    print(f\"{stuff} Six, going dark\")\n",
    "\n",
    "print()\n",
    "print(\"----------------------------------------------------------------\")\n",
    "print()\n",
    "\n",
    "countdown = 10\n",
    "while countdown > 0:\n",
    "    print(f\"{countdown} seconds left\")\n",
    "    countdown -= 1"
   ]
  }
 ],
 "metadata": {
  "language_info": {
   "name": "python"
  }
 },
 "nbformat": 4,
 "nbformat_minor": 2
}
