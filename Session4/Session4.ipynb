{
 "cells": [
  {
   "cell_type": "markdown",
   "metadata": {},
   "source": [
    "<h3><b>SESSION 4 - Functions</b></h3>\n",
    "Made by Alexander L. Myfia"
   ]
  },
  {
   "cell_type": "markdown",
   "metadata": {},
   "source": [
    "<b><u>What is it?</b></u>\n",
    "<br>\n",
    "A function is a block of code which can be executed only if the function itself is called. Functions can also take in data for it to work on it. These inputs are called parameters.\n",
    "<br><br>\n",
    "Throughout our sessions, we actually have been working with functions, especially ones with parameters.\n",
    "<br>\n",
    "For example: append(element), print(text)\n",
    "<br><br>\n",
    "Some functions return a value, and some do not but rather manipulate given data or execute tasks"
   ]
  },
  {
   "cell_type": "code",
   "execution_count": 1,
   "metadata": {},
   "outputs": [
    {
     "name": "stdout",
     "output_type": "stream",
     "text": [
      "Hello World! My name is Alex\n",
      "I am 18 years old.\n"
     ]
    }
   ],
   "source": [
    "# Make a function - def <func_name>(<param>, <param>, <param>, ...): <programming>\n",
    "def introduce(name, age):\n",
    "    print(f\"Hello World! My name is {name}\")\n",
    "    print(f\"I am {str(age)} years old.\")\n",
    "\n",
    "introduce('Alex', 18)"
   ]
  },
  {
   "cell_type": "markdown",
   "metadata": {},
   "source": [
    "However, data type of the parameters are not specified. Therefore, the function can be given any data type including unwanted ones. So take precautions on that"
   ]
  },
  {
   "cell_type": "code",
   "execution_count": 2,
   "metadata": {},
   "outputs": [
    {
     "name": "stdout",
     "output_type": "stream",
     "text": [
      "Hello World! My name is True\n",
      "I am yo mama years old.\n"
     ]
    }
   ],
   "source": [
    "introduce(True, 'yo mama')"
   ]
  },
  {
   "cell_type": "markdown",
   "metadata": {},
   "source": [
    "We can also make functions that return a value. Simply use the return keyword followed by the value the function will return"
   ]
  },
  {
   "cell_type": "code",
   "execution_count": 8,
   "metadata": {},
   "outputs": [
    {
     "name": "stdout",
     "output_type": "stream",
     "text": [
      "True\n",
      "False\n",
      "None\n"
     ]
    }
   ],
   "source": [
    "def isEven(n):\n",
    "    if isinstance(n, int):\n",
    "        if n % 2 == 0: \n",
    "            return True\n",
    "        else: \n",
    "            return False\n",
    "    else:\n",
    "        return None\n",
    "\n",
    "test1 = isEven(80)\n",
    "test2 = isEven(13)\n",
    "test3 = isEven('69')\n",
    "\n",
    "print(test1)\n",
    "print(test2)\n",
    "print(test3)"
   ]
  },
  {
   "cell_type": "markdown",
   "metadata": {},
   "source": [
    "You can also put default values into a parameter so the function can run even in case a parameter is not given"
   ]
  },
  {
   "cell_type": "code",
   "execution_count": 9,
   "metadata": {},
   "outputs": [
    {
     "name": "stdout",
     "output_type": "stream",
     "text": [
      "1962.0\n"
     ]
    }
   ],
   "source": [
    "def calculatePotentialEnergy(height, mass, gravity = 9.81):\n",
    "    return height * mass * gravity\n",
    "\n",
    "print(calculatePotentialEnergy(20, 10))"
   ]
  }
 ],
 "metadata": {
  "kernelspec": {
   "display_name": "Python 3",
   "language": "python",
   "name": "python3"
  },
  "language_info": {
   "codemirror_mode": {
    "name": "ipython",
    "version": 3
   },
   "file_extension": ".py",
   "mimetype": "text/x-python",
   "name": "python",
   "nbconvert_exporter": "python",
   "pygments_lexer": "ipython3",
   "version": "3.12.6"
  }
 },
 "nbformat": 4,
 "nbformat_minor": 2
}
